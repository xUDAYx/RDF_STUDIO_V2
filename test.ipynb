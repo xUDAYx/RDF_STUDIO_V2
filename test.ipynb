{
 "cells": [
  {
   "cell_type": "code",
   "execution_count": 2,
   "metadata": {},
   "outputs": [
    {
     "name": "stdout",
     "output_type": "stream",
     "text": [
      "Test: <script src=\"RDF_UI/updateFiveVariableUI.php\"></script>\n",
      "Expected: updateFiveVariableUI, Got: updateFiveVariableUI\n",
      "Pass\n",
      "---\n",
      "Test: <script src=\"RDF_UI/anotherFilenameUI.php\"></script>\n",
      "Expected: anotherFilenameUI, Got: anotherFilenameUI\n",
      "Pass\n",
      "---\n",
      "Test: <script src=\"some/path/to/updateFiveVariableUI.php\"></script>\n",
      "Expected: updateFiveVariableUI, Got: updateFiveVariableUI\n",
      "Pass\n",
      "---\n",
      "Test: <script src=\"RDF_UI/anotherFile.php\"></script>\n",
      "Expected: None, Got: None\n",
      "Pass\n",
      "---\n",
      "Test: <script type=\"text/javascript\" src=\"RDF_UI/updateFiveVariableUI.php\"></script>\n",
      "Expected: updateFiveVariableUI, Got: updateFiveVariableUI\n",
      "Pass\n",
      "---\n",
      "Test: <script src=\"RDF_UI/firstFilenameUI.php\"></script>\n",
      "    <script src=\"RDF_UI/secondFilenameUI.php\"></script>\n",
      "Expected: firstFilenameUI, Got: firstFilenameUI\n",
      "Pass\n",
      "---\n"
     ]
    }
   ],
   "source": [
    "import re\n",
    "\n",
    "def extract_php_filename_without_extension(text):\n",
    "    pattern = r'src=\"[^\"]*/([a-zA-Z0-9_]*UI)\\.php\"'\n",
    "    match = re.search(pattern, text)\n",
    "    return match.group(1) if match else None\n",
    "\n",
    "# Test cases\n",
    "test_cases = [\n",
    "    ('<script src=\"RDF_UI/updateFiveVariableUI.php\"></script>', 'updateFiveVariableUI'),\n",
    "    ('<script src=\"RDF_UI/anotherFilenameUI.php\"></script>', 'anotherFilenameUI'),\n",
    "    ('<script src=\"some/path/to/updateFiveVariableUI.php\"></script>', 'updateFiveVariableUI'),\n",
    "    ('<script src=\"RDF_UI/anotherFile.php\"></script>', None),\n",
    "    ('<script type=\"text/javascript\" src=\"RDF_UI/updateFiveVariableUI.php\"></script>', 'updateFiveVariableUI'),\n",
    "    ('''\n",
    "    <script src=\"RDF_UI/firstFilenameUI.php\"></script>\n",
    "    <script src=\"RDF_UI/secondFilenameUI.php\"></script>\n",
    "    ''', 'firstFilenameUI')\n",
    "]\n",
    "\n",
    "# Run test cases\n",
    "for text, expected in test_cases:\n",
    "    result = extract_php_filename_without_extension(text)\n",
    "    print(f'Test: {text.strip()}')\n",
    "    print(f'Expected: {expected}, Got: {result}')\n",
    "    print('Pass' if result == expected else 'Fail')\n",
    "    print('---')\n"
   ]
  },
  {
   "cell_type": "code",
   "execution_count": null,
   "metadata": {},
   "outputs": [],
   "source": []
  }
 ],
 "metadata": {
  "kernelspec": {
   "display_name": "Python 3",
   "language": "python",
   "name": "python3"
  },
  "language_info": {
   "codemirror_mode": {
    "name": "ipython",
    "version": 3
   },
   "file_extension": ".py",
   "mimetype": "text/x-python",
   "name": "python",
   "nbconvert_exporter": "python",
   "pygments_lexer": "ipython3",
   "version": "3.11.1"
  }
 },
 "nbformat": 4,
 "nbformat_minor": 2
}
